{
 "cells": [
  {
   "cell_type": "markdown",
   "id": "f11cd59e",
   "metadata": {},
   "source": [
    "# Importación de librerías principales\n",
    "En esta sección se importan las librerías pandas, streamlit y plotly-express para el análisis y visualización de datos."
   ]
  },
  {
   "cell_type": "code",
   "execution_count": null,
   "id": "cd277d37",
   "metadata": {},
   "outputs": [],
   "source": [
    "# Importar librerías principales\n",
    "import pandas as pd\n",
    "import streamlit as st\n",
    "import plotly.express as px"
   ]
  },
  {
   "cell_type": "code",
   "execution_count": null,
   "id": "c5ffc21f",
   "metadata": {},
   "outputs": [],
   "source": [
    "# Ejemplo de uso de pandas, plotly-express y streamlit\n",
    "import pandas as pd\n",
    "import plotly.express as px\n",
    "import streamlit as st\n",
    "\n",
    "# Crear un DataFrame de ejemplo\n",
    "data = {'Marca': ['Ford', 'Chevrolet', 'Toyota', 'Nissan'],\n",
    "        'Ventas': [150, 200, 250, 180]}\n",
    "df = pd.DataFrame(data)\n",
    "\n",
    "# Mostrar el DataFrame en Streamlit\n",
    "st.write('Datos de ventas de vehículos:')\n",
    "st.dataframe(df)\n",
    "\n",
    "# Crear un gráfico de barras con plotly-express\n",
    "fig = px.bar(df, x='Marca', y='Ventas', title='Ventas por Marca')\n",
    "st.plotly_chart(fig)"
   ]
  },
  {
   "cell_type": "code",
   "execution_count": null,
   "id": "60a62619",
   "metadata": {},
   "outputs": [],
   "source": [
    "# Verificar la instalación de nbformat\n",
    "try:\n",
    "    import nbformat\n",
    "    print('nbformat está instalado correctamente. Versión:', nbformat.__version__)\n",
    "except ImportError:\n",
    "    print('nbformat no está instalado.')"
   ]
  },
  {
   "cell_type": "code",
   "execution_count": null,
   "id": "f03f33e4",
   "metadata": {},
   "outputs": [],
   "source": [
    "# Cargar y mostrar el archivo vehicles_us.csv\n",
    "import pandas as pd\n",
    "df_vehicles = pd.read_csv('vehicles_us.csv')\n",
    "df_vehicles.head()"
   ]
  }
 ],
 "metadata": {
  "kernelspec": {
   "display_name": "Python 3",
   "language": "python",
   "name": "python3"
  },
  "language_info": {
   "codemirror_mode": {
    "name": "ipython",
    "version": 3
   },
   "file_extension": ".py",
   "mimetype": "text/x-python",
   "name": "python",
   "nbconvert_exporter": "python",
   "pygments_lexer": "ipython3",
   "version": "3.13.1"
  }
 },
 "nbformat": 4,
 "nbformat_minor": 5
}
